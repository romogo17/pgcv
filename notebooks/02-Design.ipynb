{
 "cells": [
  {
   "cell_type": "markdown",
   "metadata": {},
   "source": [
    "# Design\n",
    "###### Created by [Roberto Mora](https://github.com/romogo17)\n",
    "\n",
    "I will be structuring the `pgcv` datatypes and functions in different PostgreSQL schemas. This schemas will group the operations logically. The structure is somewhat base on OpenCV.\n",
    "\n",
    "The schemas will be:\n",
    "1. `pgcv_core`\n",
    "1. `pgcv_io`\n",
    "1. `pgcv_filter`\n",
    "1. `pgcv_histogram`\n",
    "1. `pgcv_feature`\n",
    "1. `pgcv_draw`\n",
    "1. `pgcv_shapes`\n",
    "\n",
    "\n"
   ]
  },
  {
   "cell_type": "markdown",
   "metadata": {},
   "source": [
    "## `pgcv_core`\n",
    "\n",
    "This schema contains the datatypes used in the `pgcv` extension. These datatypes are basically a representation of a N-dimension array in PostgreSQL. The idea is to map the `numpy.ndarray` to theese structures.\n",
    "\n",
    "There are 4 types of `ndarray`s. The `int`, `numeric` and `varchar` correspond to the built-int PostgreSQL datatypes.\n",
    "\n",
    "The `descriptor` is used to describe the columns of a two dimentional array (matrix) or a set of one dimentional array (vector)\n",
    "\n",
    "```SQL\n",
    "CREATE TYPE pgcv_core.ndarray_int4 AS (\n",
    "    shape   int[],\n",
    "    data    int[]\n",
    ");\n",
    "\n",
    "CREATE TYPE pgcv_core.ndarray_numeric AS (\n",
    "    shape   int[],\n",
    "    data    numeric[]\n",
    ");\n",
    "\n",
    "CREATE TYPE pgcv_core.ndarray_varchar AS (\n",
    "    shape   int[],\n",
    "    data    varchar[]\n",
    ");\n",
    "\n",
    "CREATE TYPE pgcv_core.descriptor AS (\n",
    "    elems   int,\n",
    "    data    varchar[]\n",
    ");\n",
    "\n",
    "```\n",
    "\n",
    "On the other hand, there are some functions that were incorporated into the core of the extension. For instance `hash_avg` calculates the average hash of an image\n",
    "\n",
    "```SQL\n",
    "CREATE OR REPLACE FUNCTION pgcv_core.hash_avg(image pgcv_core.ndarray_int4, size int DEFAULT 8)\n",
    "  RETURNS varchar\n",
    "```\n",
    "\n",
    "This function can be called with the following code\n",
    "\n",
    "```SQL\n",
    "-- having an image in the database (size defaults to 8)\n",
    "SELECT pgcv_core.hash_avg(<image>, [<size>]);\n",
    "```\n"
   ]
  },
  {
   "cell_type": "markdown",
   "metadata": {},
   "source": [
    "## `pgcv_io`\n",
    "\n",
    "This schema contains the image input and output functions to the filesystem. Meaning that this functions read and write images into files.\n",
    "\n",
    "```SQL\n",
    "CREATE OR REPLACE FUNCTION pgcv_io.image_read(filename varchar)\n",
    "  RETURNS pgcv_core.ndarray_int4\n",
    "\n",
    "CREATE OR REPLACE FUNCTION pgcv_io.image_write(image pgcv_core.ndarray_int4, filename varchar)\n",
    "  RETURNS boolean\n",
    "```\n",
    "\n",
    "These functions can be tested with the following code\n",
    "\n",
    "```SQL\n",
    "-- having a filename that represents an image\n",
    "SELECT shape FROM pgcv_io.image_read('<filename>');\n",
    "\n",
    "-- having an image in the database and the output filename\n",
    "SELECT pgcv_io.image_write(<image>, '<filename>');\n",
    "```"
   ]
  },
  {
   "cell_type": "markdown",
   "metadata": {},
   "source": [
    "## `pgcv_filtering`\n",
    "\n",
    "This schema contains the image filtering functions. One example of this functions is the `median_blur` which replaces each pixel by the median of a local window array given by a kernel size.\n",
    "\n",
    "```SQL\n",
    "CREATE OR REPLACE FUNCTION pgcv_filter.blur_median(image pgcv_core.ndarray_int4, kernel int DEFAULT 3)\n",
    "  RETURNS pgcv_core.ndarray_int4\n",
    "  \n",
    "CREATE OR REPLACE FUNCTION pgcv_filter.threshold_otsu(image pgcv_core.ndarray_int4)\n",
    "  RETURNS float\n",
    "  \n",
    "CREATE OR REPLACE FUNCTION pgcv_filter.enhancement_otsu(image pgcv_core.ndarray_int4)\n",
    "  RETURNS pgcv_core.ndarray_int4\n",
    "```\n",
    "\n",
    "These functions can be tested with the following code\n",
    "\n",
    "```SQL\n",
    "-- having an image in the database and odd kernel size (kernel size defaults to 3 if not specified)\n",
    "SELECT pgcv_filter.median_blur(<image>, [<kernel size>]);\n",
    "\n",
    "-- having an image in the database\n",
    "SELECT pgcv_filter.threshold_otsu(<image>);\n",
    "\n",
    "-- having an image in the database\n",
    "SELECT pgcv_filter.enhancement_otsu(<image>);\n",
    "```\n"
   ]
  },
  {
   "cell_type": "markdown",
   "metadata": {},
   "source": [
    "## `pgcv_histogram`\n",
    "\n",
    "This schema contains the histogram computing functions. There are two main kinds of histograms in `pgcv`, both return an histogram and a set of bin features (either the center of the bins or the edges)\n",
    "\n",
    "```SQL\n",
    "CREATE OR REPLACE FUNCTION pgcv_histogram.hist_bin_edges(image pgcv_core.ndarray_int4, bins int DEFAULT 10, \n",
    "                                                         as_float boolean DEFAULT TRUE,\n",
    "  OUT hist numeric[], OUT bin_edges numeric[])\n",
    "  \n",
    "CREATE OR REPLACE FUNCTION pgcv_histogram.hist_bin_centers(image pgcv_core.ndarray_int4, bins int DEFAULT 10,\n",
    "  OUT hist numeric[], OUT bin_centers numeric[])\n",
    "```\n",
    "\n",
    "These functions can be tested with the following code\n",
    "\n",
    "```SQL\n",
    "-- having an image in the database, the number of bins (bins defaults to 10 if not specified) and whether the histogram has to be normalized or not\n",
    "SELECT * FROM pgcv_histogram.hist_bin_edges(<image>, [<bins>, [<as_float>]]);\n",
    "\n",
    "-- having an image in the database and the number of bins (bins defaults to 10 if not specified) \n",
    "SELECT * FROM pgcv_histogram.hist_bin_centers(<image>, [<bins>]);\n",
    "```\n"
   ]
  },
  {
   "cell_type": "code",
   "execution_count": 34,
   "metadata": {},
   "outputs": [
    {
     "name": "stdout",
     "output_type": "stream",
     "text": [
      "0.26988829818426396\n",
      "[567650  31754 106704 321948  20520] [0.08980392 0.26941176 0.44901961 0.62862745 0.80823529]\n"
     ]
    }
   ],
   "source": [
    "import numpy as np\n",
    "from PIL import Image\n",
    "from scipy import signal\n",
    "from skimage import filters, exposure, img_as_float\n",
    "\n",
    "img = Image.open('/Users/ro/U/[ Asistencia ] - Proyecto de Investigacion/Source_Images/mdb155.pgm')\n",
    "img = np.array(img).astype('uint8')\n",
    "\n",
    "#hist, bin_edges = np.histogram(img, 5)\n",
    "\n",
    "img2 = img_as_float(img)\n",
    "hist2, bin_centers = exposure.histogram(img2, nbins=5)\n",
    "\n",
    "#print(hist, bin_edges)\n",
    "print(hist2, bin_centers)"
   ]
  },
  {
   "cell_type": "code",
   "execution_count": null,
   "metadata": {},
   "outputs": [],
   "source": []
  }
 ],
 "metadata": {
  "kernelspec": {
   "display_name": "Python 3",
   "language": "python",
   "name": "python3"
  },
  "language_info": {
   "codemirror_mode": {
    "name": "ipython",
    "version": 3
   },
   "file_extension": ".py",
   "mimetype": "text/x-python",
   "name": "python",
   "nbconvert_exporter": "python",
   "pygments_lexer": "ipython3",
   "version": "3.7.0"
  }
 },
 "nbformat": 4,
 "nbformat_minor": 2
}
