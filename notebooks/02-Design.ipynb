{
 "cells": [
  {
   "cell_type": "markdown",
   "metadata": {},
   "source": [
    "# Design\n",
    "###### Created by [Roberto Mora](https://github.com/romogo17)\n",
    "\n",
    "I will be structuring the `pgcv` datatypes and functions in different PostgreSQL schemas. This schemas will group the operations logically. The structure is somewhat base on OpenCV.\n",
    "\n",
    "The schemas will be:\n",
    "1. `pgcv_core`\n",
    "1. `pgcv_io`\n",
    "1. `pgcv_filtering`\n",
    "1. `pgcv_drawing`\n",
    "1. `pgcv_shapes`\n",
    "1. `pgcv_histogram`\n",
    "1. `pgcv_features`\n"
   ]
  },
  {
   "cell_type": "markdown",
   "metadata": {},
   "source": [
    "## `pgcv_core`\n",
    "\n",
    "This schema contains the datatypes used in the `pgcv` extension. These datatypes are basically a representation of a N-dimension array in PostgreSQL. The idea is to map the `numpy.ndarray` to theese structures.\n",
    "\n",
    "There are 4 types of `ndarray`s. The `int`, `numeric` and `varchar` correspond to the built-int PostgreSQL datatypes.\n",
    "\n",
    "The `descriptor` is used to describe the columns of a two dimentional array (matrix) or a set of one dimentional array (vector)\n",
    "\n",
    "```SQL\n",
    "CREATE TYPE pgcv_core.ndarray_int4 AS (\n",
    "    shape   int[],\n",
    "    data    int[]\n",
    ");\n",
    "\n",
    "CREATE TYPE pgcv_core.ndarray_numeric AS (\n",
    "    shape   int[],\n",
    "    data    numeric[]\n",
    ");\n",
    "\n",
    "CREATE TYPE pgcv_core.ndarray_varchar AS (\n",
    "    shape   int[],\n",
    "    data    varchar[]\n",
    ");\n",
    "\n",
    "CREATE TYPE pgcv_core.descriptor AS (\n",
    "    elems   int,\n",
    "    data    varchar[]\n",
    ");\n",
    "```\n",
    "\n"
   ]
  },
  {
   "cell_type": "markdown",
   "metadata": {},
   "source": [
    "## `pgcv_io`\n",
    "\n",
    "This schema contains the image input and output functions to the filesystem. Meaning that this functions read and write images into files.\n",
    "\n",
    "```SQL\n",
    "CREATE FUNCTION pgcv_io.image_read(filename varchar)\n",
    "  RETURNS pgcv_core.ndarray_int4\n",
    "\n",
    "CREATE FUNCTION pgcv_io.image_write(image pgcv_core.ndarray_int4, filename varchar)\n",
    "  RETURNS boolean\n",
    "```\n",
    "\n",
    "These functions can be tested with the following code\n",
    "\n",
    "```SQL\n",
    "-- having a filename that represents an image\n",
    "SELECT shape FROM pgcv_io.image_read('<filename>');\n",
    "\n",
    "-- having an image in the database and the output filename\n",
    "SELECT pgcv_io.image_write(<image>, '<filename>');\n",
    "```"
   ]
  },
  {
   "cell_type": "markdown",
   "metadata": {},
   "source": [
    "## `pgcv_filtering`\n",
    "\n",
    "This schema contains the image filtering functions. One example of this functions is the `median_blur` which replaces each pixel by the median of a local window array given by a kernel size.\n"
   ]
  }
 ],
 "metadata": {
  "kernelspec": {
   "display_name": "Python 3",
   "language": "python",
   "name": "python3"
  },
  "language_info": {
   "codemirror_mode": {
    "name": "ipython",
    "version": 3
   },
   "file_extension": ".py",
   "mimetype": "text/x-python",
   "name": "python",
   "nbconvert_exporter": "python",
   "pygments_lexer": "ipython3",
   "version": "3.7.0"
  }
 },
 "nbformat": 4,
 "nbformat_minor": 2
}
